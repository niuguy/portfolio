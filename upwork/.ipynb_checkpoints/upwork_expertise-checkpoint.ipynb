{
 "cells": [
  {
   "cell_type": "code",
   "execution_count": 2,
   "metadata": {},
   "outputs": [],
   "source": [
    "%matplotlib inline\n",
    "import pandas as pd\n",
    "import numpy as np\n",
    "import matplotlib.pyplot as plt\n",
    "from collections import Counter\n"
   ]
  },
  {
   "cell_type": "code",
   "execution_count": 3,
   "metadata": {},
   "outputs": [
    {
     "data": {
      "text/html": [
       "<div>\n",
       "<style scoped>\n",
       "    .dataframe tbody tr th:only-of-type {\n",
       "        vertical-align: middle;\n",
       "    }\n",
       "\n",
       "    .dataframe tbody tr th {\n",
       "        vertical-align: top;\n",
       "    }\n",
       "\n",
       "    .dataframe thead th {\n",
       "        text-align: right;\n",
       "    }\n",
       "</style>\n",
       "<table border=\"1\" class=\"dataframe\">\n",
       "  <thead>\n",
       "    <tr style=\"text-align: right;\">\n",
       "      <th></th>\n",
       "      <th>web-scraper-order</th>\n",
       "      <th>web-scraper-start-url</th>\n",
       "      <th>salary</th>\n",
       "      <th>earned</th>\n",
       "      <th>profile_url</th>\n",
       "      <th>profile_url-href</th>\n",
       "      <th>skill</th>\n",
       "      <th>test</th>\n",
       "      <th>detail</th>\n",
       "      <th>nationality</th>\n",
       "    </tr>\n",
       "  </thead>\n",
       "  <tbody>\n",
       "    <tr>\n",
       "      <th>0</th>\n",
       "      <td>1535992796-1710</td>\n",
       "      <td>https://www.upwork.com/o/profiles/browse/?q=da...</td>\n",
       "      <td>$49.00</td>\n",
       "      <td>$100k+</td>\n",
       "      <td>6 more</td>\n",
       "      <td>https://www.upwork.com/o/profiles/users/_~0103...</td>\n",
       "      <td>[{\"skill\":\"Shopify\"},{\"skill\":\"Yii\"},{\"skill\":...</td>\n",
       "      <td>[{\"test\":\"oDesk Readiness Test for Independent...</td>\n",
       "      <td>20+ Shopify apps were developed by me. I am wo...</td>\n",
       "      <td>Russia</td>\n",
       "    </tr>\n",
       "    <tr>\n",
       "      <th>1</th>\n",
       "      <td>1535986724-1043</td>\n",
       "      <td>https://www.upwork.com/o/profiles/browse/?q=da...</td>\n",
       "      <td>$25.00</td>\n",
       "      <td>$80k+</td>\n",
       "      <td>5 more</td>\n",
       "      <td>https://www.upwork.com/o/profiles/users/_~01fe...</td>\n",
       "      <td>[{\"skill\":\"ColdFusion\"},{\"skill\":\"PHP\"},{\"skil...</td>\n",
       "      <td>[{\"test\":\"oDesk Readiness Test for Independent...</td>\n",
       "      <td>I am a Fullstack Developer/Team Lead with over...</td>\n",
       "      <td>Philippines</td>\n",
       "    </tr>\n",
       "    <tr>\n",
       "      <th>2</th>\n",
       "      <td>1535988051-1378</td>\n",
       "      <td>https://www.upwork.com/o/profiles/browse/?q=da...</td>\n",
       "      <td>$5.00</td>\n",
       "      <td>$10k+</td>\n",
       "      <td>NaN</td>\n",
       "      <td>NaN</td>\n",
       "      <td>NaN</td>\n",
       "      <td>NaN</td>\n",
       "      <td>NaN</td>\n",
       "      <td>Philippines</td>\n",
       "    </tr>\n",
       "    <tr>\n",
       "      <th>3</th>\n",
       "      <td>1535992640-1671</td>\n",
       "      <td>https://www.upwork.com/o/profiles/browse/?q=da...</td>\n",
       "      <td>$40.00</td>\n",
       "      <td>$10k+</td>\n",
       "      <td>1 more</td>\n",
       "      <td>https://www.upwork.com/o/profiles/users/_~0184...</td>\n",
       "      <td>[{\"skill\":\"JavaScript\"},{\"skill\":\"Google Apps\"...</td>\n",
       "      <td>[]</td>\n",
       "      <td>I'm Nate, a Web Developer that has been design...</td>\n",
       "      <td>United States</td>\n",
       "    </tr>\n",
       "    <tr>\n",
       "      <th>4</th>\n",
       "      <td>1535988326-1465</td>\n",
       "      <td>https://www.upwork.com/o/profiles/browse/?q=da...</td>\n",
       "      <td>$5.56</td>\n",
       "      <td>$30k+</td>\n",
       "      <td>6 more</td>\n",
       "      <td>https://www.upwork.com/o/profiles/users/_~01b6...</td>\n",
       "      <td>[{\"skill\":\"Data Entry\"},{\"skill\":\"Data Analyti...</td>\n",
       "      <td>[{\"test\":\"oDesk Readiness Test for Agency Cont...</td>\n",
       "      <td>Computer literate having graduated a 4 years c...</td>\n",
       "      <td>Philippines</td>\n",
       "    </tr>\n",
       "  </tbody>\n",
       "</table>\n",
       "</div>"
      ],
      "text/plain": [
       "  web-scraper-order                              web-scraper-start-url  \\\n",
       "0   1535992796-1710  https://www.upwork.com/o/profiles/browse/?q=da...   \n",
       "1   1535986724-1043  https://www.upwork.com/o/profiles/browse/?q=da...   \n",
       "2   1535988051-1378  https://www.upwork.com/o/profiles/browse/?q=da...   \n",
       "3   1535992640-1671  https://www.upwork.com/o/profiles/browse/?q=da...   \n",
       "4   1535988326-1465  https://www.upwork.com/o/profiles/browse/?q=da...   \n",
       "\n",
       "   salary  earned profile_url  \\\n",
       "0  $49.00  $100k+      6 more   \n",
       "1  $25.00   $80k+      5 more   \n",
       "2   $5.00   $10k+         NaN   \n",
       "3  $40.00   $10k+      1 more   \n",
       "4   $5.56   $30k+      6 more   \n",
       "\n",
       "                                    profile_url-href  \\\n",
       "0  https://www.upwork.com/o/profiles/users/_~0103...   \n",
       "1  https://www.upwork.com/o/profiles/users/_~01fe...   \n",
       "2                                                NaN   \n",
       "3  https://www.upwork.com/o/profiles/users/_~0184...   \n",
       "4  https://www.upwork.com/o/profiles/users/_~01b6...   \n",
       "\n",
       "                                               skill  \\\n",
       "0  [{\"skill\":\"Shopify\"},{\"skill\":\"Yii\"},{\"skill\":...   \n",
       "1  [{\"skill\":\"ColdFusion\"},{\"skill\":\"PHP\"},{\"skil...   \n",
       "2                                                NaN   \n",
       "3  [{\"skill\":\"JavaScript\"},{\"skill\":\"Google Apps\"...   \n",
       "4  [{\"skill\":\"Data Entry\"},{\"skill\":\"Data Analyti...   \n",
       "\n",
       "                                                test  \\\n",
       "0  [{\"test\":\"oDesk Readiness Test for Independent...   \n",
       "1  [{\"test\":\"oDesk Readiness Test for Independent...   \n",
       "2                                                NaN   \n",
       "3                                                 []   \n",
       "4  [{\"test\":\"oDesk Readiness Test for Agency Cont...   \n",
       "\n",
       "                                              detail    nationality  \n",
       "0  20+ Shopify apps were developed by me. I am wo...         Russia  \n",
       "1  I am a Fullstack Developer/Team Lead with over...    Philippines  \n",
       "2                                                NaN    Philippines  \n",
       "3  I'm Nate, a Web Developer that has been design...  United States  \n",
       "4  Computer literate having graduated a 4 years c...    Philippines  "
      ]
     },
     "execution_count": 3,
     "metadata": {},
     "output_type": "execute_result"
    }
   ],
   "source": [
    "# read the csv\n",
    "\n",
    "people = pd.read_csv('upwork_expertise.csv', thousands = ',')\n",
    "\n",
    "people.head()"
   ]
  },
  {
   "cell_type": "code",
   "execution_count": 4,
   "metadata": {},
   "outputs": [
    {
     "data": {
      "text/html": [
       "<div>\n",
       "<style scoped>\n",
       "    .dataframe tbody tr th:only-of-type {\n",
       "        vertical-align: middle;\n",
       "    }\n",
       "\n",
       "    .dataframe tbody tr th {\n",
       "        vertical-align: top;\n",
       "    }\n",
       "\n",
       "    .dataframe thead th {\n",
       "        text-align: right;\n",
       "    }\n",
       "</style>\n",
       "<table border=\"1\" class=\"dataframe\">\n",
       "  <thead>\n",
       "    <tr style=\"text-align: right;\">\n",
       "      <th></th>\n",
       "      <th>web-scraper-order</th>\n",
       "      <th>web-scraper-start-url</th>\n",
       "      <th>salary</th>\n",
       "      <th>earned</th>\n",
       "      <th>profile_url</th>\n",
       "      <th>profile_url-href</th>\n",
       "      <th>skill</th>\n",
       "      <th>test</th>\n",
       "      <th>detail</th>\n",
       "      <th>nationality</th>\n",
       "    </tr>\n",
       "  </thead>\n",
       "  <tbody>\n",
       "    <tr>\n",
       "      <th>count</th>\n",
       "      <td>865</td>\n",
       "      <td>865</td>\n",
       "      <td>865</td>\n",
       "      <td>861</td>\n",
       "      <td>773</td>\n",
       "      <td>773</td>\n",
       "      <td>773</td>\n",
       "      <td>773</td>\n",
       "      <td>771</td>\n",
       "      <td>865</td>\n",
       "    </tr>\n",
       "    <tr>\n",
       "      <th>unique</th>\n",
       "      <td>865</td>\n",
       "      <td>109</td>\n",
       "      <td>229</td>\n",
       "      <td>29</td>\n",
       "      <td>6</td>\n",
       "      <td>773</td>\n",
       "      <td>773</td>\n",
       "      <td>598</td>\n",
       "      <td>770</td>\n",
       "      <td>81</td>\n",
       "    </tr>\n",
       "    <tr>\n",
       "      <th>top</th>\n",
       "      <td>1535988016-1366</td>\n",
       "      <td>https://www.upwork.com/o/profiles/browse/?q=da...</td>\n",
       "      <td>$20.00</td>\n",
       "      <td>$10k+</td>\n",
       "      <td>6 more</td>\n",
       "      <td>https://www.upwork.com/o/profiles/users/_~0187...</td>\n",
       "      <td>[{\"skill\":\"Presentations\"},{\"skill\":\"Microsoft...</td>\n",
       "      <td>[]</td>\n",
       "      <td>Hello there,  \\n\\nI am a computer science grad...</td>\n",
       "      <td>United States</td>\n",
       "    </tr>\n",
       "    <tr>\n",
       "      <th>freq</th>\n",
       "      <td>1</td>\n",
       "      <td>10</td>\n",
       "      <td>47</td>\n",
       "      <td>216</td>\n",
       "      <td>510</td>\n",
       "      <td>1</td>\n",
       "      <td>1</td>\n",
       "      <td>92</td>\n",
       "      <td>2</td>\n",
       "      <td>149</td>\n",
       "    </tr>\n",
       "  </tbody>\n",
       "</table>\n",
       "</div>"
      ],
      "text/plain": [
       "       web-scraper-order                              web-scraper-start-url  \\\n",
       "count                865                                                865   \n",
       "unique               865                                                109   \n",
       "top      1535988016-1366  https://www.upwork.com/o/profiles/browse/?q=da...   \n",
       "freq                   1                                                 10   \n",
       "\n",
       "        salary earned profile_url  \\\n",
       "count      865    861         773   \n",
       "unique     229     29           6   \n",
       "top     $20.00  $10k+      6 more   \n",
       "freq        47    216         510   \n",
       "\n",
       "                                         profile_url-href  \\\n",
       "count                                                 773   \n",
       "unique                                                773   \n",
       "top     https://www.upwork.com/o/profiles/users/_~0187...   \n",
       "freq                                                    1   \n",
       "\n",
       "                                                    skill test  \\\n",
       "count                                                 773  773   \n",
       "unique                                                773  598   \n",
       "top     [{\"skill\":\"Presentations\"},{\"skill\":\"Microsoft...   []   \n",
       "freq                                                    1   92   \n",
       "\n",
       "                                                   detail    nationality  \n",
       "count                                                 771            865  \n",
       "unique                                                770             81  \n",
       "top     Hello there,  \\n\\nI am a computer science grad...  United States  \n",
       "freq                                                    2            149  "
      ]
     },
     "execution_count": 4,
     "metadata": {},
     "output_type": "execute_result"
    }
   ],
   "source": [
    "# Overview\n",
    "people.describe()"
   ]
  },
  {
   "cell_type": "code",
   "execution_count": 5,
   "metadata": {},
   "outputs": [
    {
     "data": {
      "text/plain": [
       "count               865\n",
       "unique               81\n",
       "top       United States\n",
       "freq                149\n",
       "Name: nationality, dtype: object"
      ]
     },
     "execution_count": 5,
     "metadata": {},
     "output_type": "execute_result"
    }
   ],
   "source": [
    "## 1. Nationality \n",
    "people['nationality'].describe()"
   ]
  },
  {
   "cell_type": "code",
   "execution_count": 6,
   "metadata": {},
   "outputs": [
    {
     "name": "stdout",
     "output_type": "stream",
     "text": [
      "[0, 1, 2, 3, 4, 5, 6, 7, 8, 9]\n"
     ]
    },
    {
     "data": {
      "image/png": "[encoded data removed]",
      "text/plain": [
       "<matplotlib.figure.Figure at 0x108965850>"
      ]
     },
     "metadata": {},
     "output_type": "display_data"
    }
   ],
   "source": [
    "counter = Counter(people['nationality'])\n",
    "top10 = counter.most_common(10)\n",
    "\n",
    "nations = [x[0] for x in top10]\n",
    "nations = nations[::-1]\n",
    "nation_counts = [x[1] for x in top10]\n",
    "nation_counts = nation_counts[::-1]\n",
    "# Plot histogram using matplotlib bar().\n",
    "x_pos = [i for i, _ in enumerate(nations)]\n",
    "\n",
    "fig = plt.figure()\n",
    "plt.barh(x_pos, nation_counts, color = 'blue')\n",
    "plt.ylabel(\"Nations\")\n",
    "plt.xlabel(\"Freelancer count\")\n",
    "plt.yticks(x_pos, nations)\n",
    "\n",
    "plt.show()"
   ]
  },
  {
   "cell_type": "code",
   "execution_count": 7,
   "metadata": {},
   "outputs": [
    {
     "data": {
      "text/plain": [
       "0    [{\"skill\":\"Shopify\"},{\"skill\":\"Yii\"},{\"skill\":...\n",
       "1    [{\"skill\":\"ColdFusion\"},{\"skill\":\"PHP\"},{\"skil...\n",
       "2                                                  NaN\n",
       "3    [{\"skill\":\"JavaScript\"},{\"skill\":\"Google Apps\"...\n",
       "4    [{\"skill\":\"Data Entry\"},{\"skill\":\"Data Analyti...\n",
       "Name: skill, dtype: object"
      ]
     },
     "execution_count": 7,
     "metadata": {},
     "output_type": "execute_result"
    }
   ],
   "source": [
    "# 2. Skills\n",
    "people['skill'].describe()\n",
    "people['skill'].head()"
   ]
  },
  {
   "cell_type": "code",
   "execution_count": 39,
   "metadata": {},
   "outputs": [
    {
     "name": "stdout",
     "output_type": "stream",
     "text": [
      "[(u'Data Entry', 130), (u'PHP', 126), (u'JavaScript', 122), (u'WordPress', 109), (u'Microsoft Excel', 106), (u'Python', 106), (u'Internet Research', 94), (u'Adobe Photoshop', 79), (u'Data Science', 77), (u'HTML5', 71)]\n"
     ]
    },
    {
     "data": {
      "image/png": "[encoded data removed]",
      "text/plain": [
       "<matplotlib.figure.Figure at 0x10be1fe10>"
      ]
     },
     "metadata": {},
     "output_type": "display_data"
    }
   ],
   "source": [
    "import json\n",
    "import math\n",
    "skills = people[people['skill'].notna()]['skill']\n",
    "# missing data\n",
    "\n",
    "all_skills = []\n",
    "for row in skills:\n",
    "    row_skills = [s['skill'] for s in json.loads(row)]\n",
    "    all_skills += row_skills\n",
    "    \n",
    "counter = Counter(all_skills)\n",
    "top10 = counter.most_common(10)\n",
    "\n",
    "# plot\n",
    "skills = [x[0] for x in top10][::-1]\n",
    "skill_counts = [x[1] for x in top10][::-1]\n",
    "x_pos = [i for i, _ in enumerate(top10)]\n",
    "fig = plt.figure()\n",
    "plt.barh(x_pos, skill_counts, color = 'pink')\n",
    "plt.ylabel(\"Nations\")\n",
    "plt.xlabel(\"Freelancer count\")\n",
    "plt.yticks(x_pos, skills)\n",
    "\n",
    "print top10"
   ]
  },
  {
   "cell_type": "code",
   "execution_count": 43,
   "metadata": {},
   "outputs": [
    {
     "data": {
      "text/plain": [
       "([<matplotlib.axis.YTick at 0x10c00b810>,\n",
       "  <matplotlib.axis.YTick at 0x10c6992d0>,\n",
       "  <matplotlib.axis.YTick at 0x10caed850>,\n",
       "  <matplotlib.axis.YTick at 0x10caedfd0>,\n",
       "  <matplotlib.axis.YTick at 0x10caf9750>,\n",
       "  <matplotlib.axis.YTick at 0x10caf9e90>,\n",
       "  <matplotlib.axis.YTick at 0x10cb03610>,\n",
       "  <matplotlib.axis.YTick at 0x10cb03d50>,\n",
       "  <matplotlib.axis.YTick at 0x10cb0f4d0>,\n",
       "  <matplotlib.axis.YTick at 0x10cb0fc10>],\n",
       " <a list of 10 Text yticklabel objects>)"
      ]
     },
     "execution_count": 43,
     "metadata": {},
     "output_type": "execute_result"
    },
    {
     "data": {
      "image/png": "[encoded data removed]",
      "text/plain": [
       "<matplotlib.figure.Figure at 0x10c206fd0>"
      ]
     },
     "metadata": {},
     "output_type": "display_data"
    }
   ],
   "source": [
    "# 3. Tests\n",
    "tests = people[people['test'].notna()]['test']\n",
    "all_tests = []\n",
    "for row in tests:\n",
    "    row_tests = [t['test'] for t in json.loads(row)]\n",
    "    all_tests += row_tests\n",
    "\n",
    "counter = Counter(all_tests)\n",
    "top10 = counter.most_common(10)\n",
    "\n",
    "tests = [x[0] for x in top10][::-1]\n",
    "test_counts = [x[1] for x in top10][::-1]\n",
    "x_pos = [i for i, _ in enumerate(top10)]\n",
    "#fig = plt.figure()\n",
    "plt.barh(x_pos, test_counts, color = 'red')\n",
    "plt.ylabel(\"Nations\")\n",
    "plt.xlabel(\"Freelancer count\")\n",
    "plt.yticks(x_pos, tests)\n"
   ]
  },
  {
   "cell_type": "code",
   "execution_count": 36,
   "metadata": {},
   "outputs": [
    {
     "data": {
      "text/plain": [
       "<matplotlib.axes.AxesSubplot at 0x10c1a1b50>"
      ]
     },
     "execution_count": 36,
     "metadata": {},
     "output_type": "execute_result"
    },
    {
     "data": {
      "image/png": "[encoded data removed]",
      "text/plain": [
       "<matplotlib.figure.Figure at 0x10bd6c0d0>"
      ]
     },
     "metadata": {},
     "output_type": "display_data"
    }
   ],
   "source": [
    "# 4. earnings\n",
    "# data cleaning, only number remains\n",
    "valid = '1234567890.' \n",
    "def sanitize(data):\n",
    "    filtered = filter(lambda char: char in valid, data)\n",
    "    return float(''.join(filtered))\n",
    "\n",
    "earnings = people['earned'].dropna().apply(sanitize)\n",
    "\n",
    "earnings.sort_values(ascending = True)\n",
    "\n",
    "# histgram of earnings.\n",
    "earnings.hist()\n"
   ]
  },
  {
   "cell_type": "code",
   "execution_count": null,
   "metadata": {},
   "outputs": [],
   "source": [
    "#5 The conclusion\n",
    "\n",
    "Nationality, skills, tests, earnings, salaries\n"
   ]
  }
 ],
 "metadata": {
  "kernelspec": {
   "display_name": "Python 2",
   "language": "python",
   "name": "python2"
  }
 },
 "nbformat": 4,
 "nbformat_minor": 2
}
